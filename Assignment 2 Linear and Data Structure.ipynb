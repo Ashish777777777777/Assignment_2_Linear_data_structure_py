{
 "cells": [
  {
   "cell_type": "code",
   "execution_count": 1,
   "id": "e2e184b0",
   "metadata": {},
   "outputs": [],
   "source": [
    "class Node:           # Q1\n",
    "    def __init__(self, data):\n",
    "        self.data = data\n",
    "        self.next = None\n",
    "\n",
    "def delete_zero_sum_sublists(head):\n",
    "    dummy = Node(0)\n",
    "    dummy.next = head\n",
    "    current = dummy\n",
    "    running_sum = 0\n",
    "    sum_map = {}\n",
    "\n",
    "    while current:\n",
    "        running_sum += current.data\n",
    "        if running_sum in sum_map:\n",
    "            # Delete nodes between sum_map[running_sum] and current\n",
    "            prev = sum_map[running_sum].next\n",
    "            temp_sum = running_sum\n",
    "            while prev != current:\n",
    "                temp_sum += prev.data\n",
    "                del sum_map[temp_sum]\n",
    "                prev = prev.next\n",
    "            sum_map[running_sum].next = current.next\n",
    "        else:\n",
    "            sum_map[running_sum] = current\n",
    "        current = current.next\n",
    "\n",
    "    return dummy.next\n"
   ]
  },
  {
   "cell_type": "code",
   "execution_count": 3,
   "id": "7d103a5d",
   "metadata": {},
   "outputs": [
    {
     "name": "stdout",
     "output_type": "stream",
     "text": [
      "Original Linked List:\n",
      "1 -> 2 -> 3 -> 4 -> 5 -> 6 -> 7 -> 8 -> None\n",
      "\n",
      "Linked List after Reversing in Groups of 3 :\n",
      "3 -> 2 -> 1 -> 6 -> 5 -> 4 -> 7 -> 8 -> None\n"
     ]
    }
   ],
   "source": [
    "class Node:     #  Q 2\n",
    "    def __init__(self, data):\n",
    "        self.data = data\n",
    "        self.next = None\n",
    "\n",
    "def reverse_linked_list_in_groups(head, k):\n",
    "    current = head\n",
    "    prev = None\n",
    "    next_node = None\n",
    "    count = 0\n",
    "\n",
    "    # Count the number of nodes in the group\n",
    "    temp = head\n",
    "    while temp and count < k:\n",
    "        temp = temp.next\n",
    "        count += 1\n",
    "\n",
    "    # If there are enough nodes to form a group, reverse it\n",
    "    if count == k:\n",
    "        count = 0\n",
    "        while current and count < k:\n",
    "            next_node = current.next\n",
    "            current.next = prev\n",
    "            prev = current\n",
    "            current = next_node\n",
    "            count += 1\n",
    "\n",
    "        # Recursive call for the remaining list\n",
    "        if next_node:\n",
    "            head.next = reverse_linked_list_in_groups(next_node, k)\n",
    "\n",
    "        return prev  # New head of the reversed group\n",
    "    else:\n",
    "        return head  # No more nodes to reverse\n",
    "\n",
    "# Helper function to print linked list\n",
    "def print_linked_list(head):\n",
    "    current = head\n",
    "    while current:\n",
    "        print(current.data, end=\" -> \")\n",
    "        current = current.next\n",
    "    print(\"None\")\n",
    "\n",
    "# Example usage\n",
    "# Create a linked list: 1 -> 2 -> 3 -> 4 -> 5 -> 6 -> 7 -> 8\n",
    "head = Node(1)\n",
    "current = head\n",
    "for i in range(2, 9):\n",
    "    current.next = Node(i)\n",
    "    current = current.next\n",
    "\n",
    "k = 3  # Group size\n",
    "print(\"Original Linked List:\")\n",
    "print_linked_list(head)\n",
    "\n",
    "new_head = reverse_linked_list_in_groups(head, k)\n",
    "print(\"\\nLinked List after Reversing in Groups of\", k, \":\")\n",
    "print_linked_list(new_head)\n"
   ]
  },
  {
   "cell_type": "code",
   "execution_count": 4,
   "id": "c8ab7cc1",
   "metadata": {},
   "outputs": [
    {
     "name": "stdout",
     "output_type": "stream",
     "text": [
      "First Linked List:\n",
      "1 -> 3 -> 5 -> None\n",
      "\n",
      "Second Linked List:\n",
      "2 -> 4 -> 6 -> None\n",
      "\n",
      "Merged Linked List:\n",
      "1 -> 2 -> 3 -> 4 -> 5 -> 6 -> None\n"
     ]
    }
   ],
   "source": [
    "class Node:      # Q 3\n",
    "    def __init__(self, data):\n",
    "        self.data = data\n",
    "        self.next = None\n",
    "\n",
    "def merge_alternate_positions(list1, list2):\n",
    "    current1 = list1\n",
    "    current2 = list2\n",
    "\n",
    "    while current1 and current2:\n",
    "        temp1 = current1.next\n",
    "        temp2 = current2.next\n",
    "\n",
    "        current1.next = current2\n",
    "        current2.next = temp1\n",
    "\n",
    "        current1 = temp1\n",
    "        current2 = temp2\n",
    "\n",
    "    return list1\n",
    "\n",
    "# Helper function to print linked list\n",
    "def print_linked_list(head):\n",
    "    current = head\n",
    "    while current:\n",
    "        print(current.data, end=\" -> \")\n",
    "        current = current.next\n",
    "    print(\"None\")\n",
    "\n",
    "# Example usage\n",
    "# Create the first linked list: 1 -> 3 -> 5\n",
    "list1 = Node(1)\n",
    "list1.next = Node(3)\n",
    "list1.next.next = Node(5)\n",
    "\n",
    "# Create the second linked list: 2 -> 4 -> 6\n",
    "list2 = Node(2)\n",
    "list2.next = Node(4)\n",
    "list2.next.next = Node(6)\n",
    "\n",
    "print(\"First Linked List:\")\n",
    "print_linked_list(list1)\n",
    "\n",
    "print(\"\\nSecond Linked List:\")\n",
    "print_linked_list(list2)\n",
    "\n",
    "merged_list = merge_alternate_positions(list1, list2)\n",
    "print(\"\\nMerged Linked List:\")\n",
    "print_linked_list(merged_list)\n"
   ]
  },
  {
   "cell_type": "code",
   "execution_count": 5,
   "id": "84a04ac5",
   "metadata": {},
   "outputs": [
    {
     "name": "stdout",
     "output_type": "stream",
     "text": [
      "Number of pairs with sum 6 : 3\n"
     ]
    }
   ],
   "source": [
    "def count_pairs_with_sum(arr, target_sum): # Q 4\n",
    "    frequency = {}  # Hash map to store the frequency of elements\n",
    "    count = 0  # Counter for pairs with the given sum\n",
    "\n",
    "    for num in arr:\n",
    "        complement = target_sum - num\n",
    "        if complement in frequency:\n",
    "            count += frequency[complement]  # Add frequency of complement to count\n",
    "        if num in frequency:\n",
    "            frequency[num] += 1\n",
    "        else:\n",
    "            frequency[num] = 1\n",
    "\n",
    "    return count\n",
    "\n",
    "# Example usage\n",
    "arr = [1, 5, 7, -1, 5]\n",
    "target_sum = 6\n",
    "\n",
    "result = count_pairs_with_sum(arr, target_sum)\n",
    "print(\"Number of pairs with sum\", target_sum, \":\", result)\n"
   ]
  },
  {
   "cell_type": "code",
   "execution_count": 7,
   "id": "b12cf9a5",
   "metadata": {},
   "outputs": [
    {
     "name": "stdout",
     "output_type": "stream",
     "text": [
      "Duplicate elements: [4, 5]\n"
     ]
    }
   ],
   "source": [
    "def find_duplicates(arr): # Q 5\n",
    "    seen = set()  # Set to store seen elements\n",
    "    duplicates = set()  # Set to store duplicate elements\n",
    "\n",
    "    for num in arr:\n",
    "        if num in seen:\n",
    "            duplicates.add(num)  # Add to duplicates set if already seen\n",
    "        else:\n",
    "            seen.add(num)  # Add to seen set if not seen before\n",
    "\n",
    "    return list(duplicates)\n",
    "\n",
    "# Example usage\n",
    "arr = [4, 5, 6, 7, 4, 5, 8]\n",
    "duplicate_elements = find_duplicates(arr)\n",
    "print(\"Duplicate elements:\", duplicate_elements)\n"
   ]
  },
  {
   "cell_type": "code",
   "execution_count": 8,
   "id": "1796fafb",
   "metadata": {},
   "outputs": [
    {
     "name": "stdout",
     "output_type": "stream",
     "text": [
      "Kth largest: 3\n",
      "Kth smallest: 3\n"
     ]
    }
   ],
   "source": [
    "def kth_largest_smallest_sort(arr, k):   # Q 6\n",
    "    sorted_arr = sorted(arr)\n",
    "    kth_largest = sorted_arr[-k]\n",
    "    kth_smallest = sorted_arr[k - 1]\n",
    "    return kth_largest, kth_smallest\n",
    "\n",
    "# Example usage\n",
    "arr = [3, 1, 5, 4, 2]\n",
    "k = 3\n",
    "kth_largest, kth_smallest = kth_largest_smallest_sort(arr, k)\n",
    "print(\"Kth largest:\", kth_largest)\n",
    "print(\"Kth smallest:\", kth_smallest)\n"
   ]
  },
  {
   "cell_type": "code",
   "execution_count": 9,
   "id": "39470ad3",
   "metadata": {},
   "outputs": [
    {
     "name": "stdout",
     "output_type": "stream",
     "text": [
      "Array after moving negatives to one side: [-2, -7, -1, 8, 5]\n"
     ]
    }
   ],
   "source": [
    "def move_negatives_to_one_side(arr):    # Q 7\n",
    "    left = 0\n",
    "    right = len(arr) - 1\n",
    "\n",
    "    while left <= right:\n",
    "        if arr[left] < 0 and arr[right] < 0:\n",
    "            left += 1\n",
    "        elif arr[left] >= 0 and arr[right] < 0:\n",
    "            arr[left], arr[right] = arr[right], arr[left]\n",
    "            left += 1\n",
    "            right -= 1\n",
    "        elif arr[left] >= 0 and arr[right] >= 0:\n",
    "            right -= 1\n",
    "        else:\n",
    "            left += 1\n",
    "            right -= 1\n",
    "\n",
    "# Example usage\n",
    "arr = [-2, 5, -1, 8, -7]\n",
    "move_negatives_to_one_side(arr)\n",
    "print(\"Array after moving negatives to one side:\", arr)\n"
   ]
  },
  {
   "cell_type": "code",
   "execution_count": 10,
   "id": "aa389404",
   "metadata": {},
   "outputs": [
    {
     "name": "stdout",
     "output_type": "stream",
     "text": [
      "Original String: Hello, World!\n",
      "Reversed String: !dlroW ,olleH\n"
     ]
    }
   ],
   "source": [
    "def reverse_string_using_stack(input_string): # Q 8\n",
    "    stack = []\n",
    "    reversed_string = \"\"\n",
    "\n",
    "    # Push each character onto the stack\n",
    "    for char in input_string:\n",
    "        stack.append(char)\n",
    "\n",
    "    # Pop characters from the stack to build the reversed string\n",
    "    while stack:\n",
    "        reversed_string += stack.pop()\n",
    "\n",
    "    return reversed_string\n",
    "\n",
    "# Example usage\n",
    "input_string = \"Hello, World!\"\n",
    "reversed_result = reverse_string_using_stack(input_string)\n",
    "print(\"Original String:\", input_string)\n",
    "print(\"Reversed String:\", reversed_result)\n"
   ]
  },
  {
   "cell_type": "code",
   "execution_count": 11,
   "id": "d5f04424",
   "metadata": {},
   "outputs": [
    {
     "name": "stdout",
     "output_type": "stream",
     "text": [
      "Result of postfix expression: 38.0\n"
     ]
    }
   ],
   "source": [
    "def evaluate_postfix_expression(expression):   # Q 9\n",
    "    stack = []\n",
    "\n",
    "    for char in expression:\n",
    "        if char.isdigit():\n",
    "            stack.append(int(char))\n",
    "        else:\n",
    "            operand2 = stack.pop()\n",
    "            operand1 = stack.pop()\n",
    "            result = perform_operation(operand1, operand2, char)\n",
    "            stack.append(result)\n",
    "\n",
    "    return stack.pop()\n",
    "\n",
    "def perform_operation(operand1, operand2, operator):\n",
    "    if operator == \"+\":\n",
    "        return operand1 + operand2\n",
    "    elif operator == \"-\":\n",
    "        return operand1 - operand2\n",
    "    elif operator == \"*\":\n",
    "        return operand1 * operand2\n",
    "    elif operator == \"/\":\n",
    "        return operand1 / operand2\n",
    "    # Add more operators as needed\n",
    "\n",
    "# Example usage\n",
    "postfix_expression = \"62+5*84/-\"\n",
    "result = evaluate_postfix_expression(postfix_expression)\n",
    "print(\"Result of postfix expression:\", result)\n"
   ]
  },
  {
   "cell_type": "code",
   "execution_count": 12,
   "id": "8125864c",
   "metadata": {},
   "outputs": [
    {
     "name": "stdout",
     "output_type": "stream",
     "text": [
      "1\n",
      "2\n",
      "3\n",
      "4\n"
     ]
    }
   ],
   "source": [
    "class QueueUsingStack:         # Q 10\n",
    "    def __init__(self):\n",
    "        self.stack_enqueue = []\n",
    "        self.stack_dequeue = []\n",
    "\n",
    "    def enqueue(self, value):\n",
    "        self.stack_enqueue.append(value)\n",
    "\n",
    "    def dequeue(self):\n",
    "        if not self.stack_dequeue:\n",
    "            while self.stack_enqueue:\n",
    "                self.stack_dequeue.append(self.stack_enqueue.pop())\n",
    "        if self.stack_dequeue:\n",
    "            return self.stack_dequeue.pop()\n",
    "        else:\n",
    "            raise Exception(\"Queue is empty\")\n",
    "\n",
    "# Example usage\n",
    "queue = QueueUsingStack()\n",
    "queue.enqueue(1)\n",
    "queue.enqueue(2)\n",
    "queue.enqueue(3)\n",
    "\n",
    "print(queue.dequeue())  \n",
    "print(queue.dequeue())  \n",
    "queue.enqueue(4)\n",
    "print(queue.dequeue())  \n",
    "print(queue.dequeue())  \n"
   ]
  },
  {
   "cell_type": "code",
   "execution_count": null,
   "id": "ef86bdb7",
   "metadata": {},
   "outputs": [],
   "source": []
  }
 ],
 "metadata": {
  "kernelspec": {
   "display_name": "Python 3 (ipykernel)",
   "language": "python",
   "name": "python3"
  },
  "language_info": {
   "codemirror_mode": {
    "name": "ipython",
    "version": 3
   },
   "file_extension": ".py",
   "mimetype": "text/x-python",
   "name": "python",
   "nbconvert_exporter": "python",
   "pygments_lexer": "ipython3",
   "version": "3.10.9"
  }
 },
 "nbformat": 4,
 "nbformat_minor": 5
}
